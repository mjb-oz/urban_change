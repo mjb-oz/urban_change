{
 "cells": [
  {
   "cell_type": "markdown",
   "metadata": {},
   "source": [
    "# Building the dataset"
   ]
  },
  {
   "cell_type": "markdown",
   "metadata": {},
   "source": [
    "## Import From Digital Earth Australia NBAR"
   ]
  },
  {
   "cell_type": "code",
   "execution_count": 1,
   "metadata": {},
   "outputs": [],
   "source": [
    "%matplotlib notebook\n",
    "\n",
    "import pandas as pd\n",
    "import xarray as xr\n",
    "import numpy as np\n",
    "import datetime\n",
    "from datetime import date, timedelta\n",
    "import gdal\n",
    "from gdal import *\n",
    "\n",
    "import datacube\n",
    "from datacube.helpers import ga_pq_fuser\n",
    "from datacube.storage import masking\n",
    "from datacube.storage.masking import mask_to_dict\n",
    "\n",
    "from matplotlib.backends.backend_pdf import PdfPages\n",
    "from matplotlib import pyplot as plt\n",
    "import matplotlib.dates\n",
    "\n",
    "from IPython.display import display\n",
    "import ipywidgets as widgets\n",
    "import rasterio"
   ]
  },
  {
   "cell_type": "markdown",
   "metadata": {},
   "source": [
    "## Define Bounding Box"
   ]
  },
  {
   "cell_type": "code",
   "execution_count": 9,
   "metadata": {},
   "outputs": [],
   "source": [
    "study_area = 'mtbarker'\n",
    "\n",
    "# Mt Barker in the Adelaide Hills\n",
    "if study_area == 'mtbarker':\n",
    "    lat_min = -35.05\n",
    "    lat_max = -35.08\n",
    "    lon_min = 138.85\n",
    "    lon_max = 138.895\n",
    "    \n",
    "elif study_area == 'swmelb':\n",
    "    lat_min = -37.879\n",
    "    lat_max = -37.91\n",
    "    lon_min = 144.705\n",
    "    lon_max = 144.76\n",
    "    \n",
    "elif study_area == 'gunghalin':\n",
    "    lat_min = -35.18\n",
    "    lat_max = -35.21\n",
    "    lon_min = 149.14\n",
    "    lon_max = 149.17\n",
    "elif study_area == 'goldengrove': \n",
    "    lat_min = -34.77\n",
    "    lat_max = -34.8\n",
    "    lon_min = 138.66\n",
    "    lon_max = 138.73\n",
    "elif study_area == 'molonglo'\n",
    "    lat_min = -35.3\n",
    "    lat_max = -35.33\n",
    "    lon_min = 149.015\n",
    "    lon_max = 149.06\n",
    "elif study_area == 'nperth'\n",
    "    lat_min = -31.686\n",
    "    lat_max = -31.73\n",
    "    lon_min = 115.79\n",
    "    lon_max = 115.813\n",
    "elif study_area = 'swbris'\n",
    "    lat_min = -27.66\n",
    "    lat_max = -27.7 \n",
    "    lon_min = 152.877\n",
    "    lon_max = 152.93\n",
    "elif study_area == 'swsyd'\n",
    "    lat_min = -33.993\n",
    "    lat_max = -34.04\n",
    "    lon_min = 150.715 \n",
    "    lon_max = 150.78\n",
    "else:\n",
    "    print('Area not known')"
   ]
  },
  {
   "cell_type": "markdown",
   "metadata": {},
   "source": [
    "# Datacube query is completed"
   ]
  },
  {
   "cell_type": "code",
   "execution_count": 10,
   "metadata": {},
   "outputs": [
    {
     "name": "stdout",
     "output_type": "stream",
     "text": [
      "{'time': ('1987-01-01', '2017-10-31'), 'x': (138.85, 138.895), 'y': (-35.08, -35.05), 'crs': 'EPSG:4326'}\n"
     ]
    }
   ],
   "source": [
    "#Temporal range, wavelengths/band and sensors of interest are defined\n",
    "\n",
    "#temporal range is defined\n",
    "start_of_epoch = '1987-01-01'\n",
    "end_of_epoch =  '2017-10-31'\n",
    "\n",
    "#wavelengths/bands of interest are defined\n",
    "bands_of_interest = ['blue',\n",
    "                     'green',\n",
    "                     'red', \n",
    "                     'nir',\n",
    "                     'swir1', \n",
    "                     'swir2']\n",
    "\n",
    "#Landsat sensors of interest are defined\n",
    "sensors = ['ls8', 'ls7', 'ls5'] \n",
    "\n",
    "#query is created\n",
    "query = {'time': (start_of_epoch, end_of_epoch),}\n",
    "query['x'] = (lon_min, lon_max)\n",
    "query['y'] = (lat_max, lat_min)\n",
    "query['crs'] = 'EPSG:4326'"
   ]
  },
  {
   "cell_type": "markdown",
   "metadata": {},
   "source": [
    "# Data is extracted from Open Datacube"
   ]
  },
  {
   "cell_type": "markdown",
   "metadata": {},
   "source": [
    "The extracted data is first filtered using the criteria in \"mask_components\". \n",
    "The cloudiness of the scenes is then tested, and any scenes that do not meet the given \"cloud_free_threshold\" are discarded.\n",
    "Additionally, any pixel that is located within the ocean/sea will be converted to \"nan\" values with the 'land_sea' command."
   ]
  },
  {
   "cell_type": "code",
   "execution_count": 12,
   "metadata": {},
   "outputs": [],
   "source": [
    "#Create cloud mask. This will define which pixel quality (PQ) artefacts are removed from the results.\n",
    "# It should be noted the \"land_sea\" code will remove all ocean/sea pixels.\n",
    "\n",
    "mask_components = {'cloud_acca':'no_cloud',\n",
    "'cloud_shadow_acca' :'no_cloud_shadow',\n",
    "'cloud_shadow_fmask' : 'no_cloud_shadow',\n",
    "'cloud_fmask' :'no_cloud',\n",
    "'blue_saturated' : False,\n",
    "'green_saturated' : False,\n",
    "'red_saturated' : False,\n",
    "'nir_saturated' : False,\n",
    "'swir1_saturated' : False,\n",
    "'swir2_saturated' : False,\n",
    "'contiguous':True,\n",
    "'land_sea': 'land'}"
   ]
  },
  {
   "cell_type": "code",
   "execution_count": 26,
   "metadata": {
    "scrolled": false
   },
   "outputs": [
    {
     "name": "stdout",
     "output_type": "stream",
     "text": [
      "Load Started At: 2018-01-15 13:40:01.982642\n",
      "Loaded ls8\n",
      "Loaded ls7\n",
      "Loaded ls5\n",
      "Concatenating\n",
      "Load and Xarray build complete\n",
      "Process took 0:06:51.762970\n"
     ]
    },
    {
     "data": {
      "text/plain": [
       "<xarray.Dataset>\n",
       "Dimensions:       (time: 710, x: 171, y: 143)\n",
       "Coordinates:\n",
       "  * y             (y) float64 -3.844e+06 -3.844e+06 -3.844e+06 -3.844e+06 ...\n",
       "  * x             (x) float64 6.228e+05 6.228e+05 6.229e+05 6.229e+05 ...\n",
       "  * time          (time) datetime64[ns] 1987-09-20T00:00:31 ...\n",
       "Data variables:\n",
       "    pixelquality  (time, y, x) int16 16383 16383 16383 16383 16383 13311 ...\n",
       "    blue          (time, y, x) int16 318 274 341 385 851 1397 1762 1954 1848 ...\n",
       "    green         (time, y, x) int16 473 379 473 519 939 1539 2040 2221 2086 ...\n",
       "    red           (time, y, x) int16 326 284 368 368 827 1450 1862 2027 1986 ...\n",
       "    nir           (time, y, x) int16 3561 2752 2514 2370 2800 3561 4130 4366 ...\n",
       "    swir1         (time, y, x) int16 1207 970 801 801 1241 2154 2593 2796 ...\n",
       "    swir2         (time, y, x) int16 384 334 334 334 786 1490 1942 1841 2092 ...\n",
       "Attributes:\n",
       "    crs:      EPSG:3577\n",
       "    affin|e:  | 25.00, 0.00, 622800.00|\\n| 0.00,-25.00,-3844375.00|\\n| 0.00, ..."
      ]
     },
     "execution_count": 26,
     "metadata": {},
     "output_type": "execute_result"
    }
   ],
   "source": [
    "start = datetime.datetime.now()\n",
    "print('Load Started At: ' + str(start))\n",
    "\n",
    "# Data for each Landsat sensor is retrieved and saved in a dict for concatenation\n",
    "sensor_clean = {}\n",
    "\n",
    "# Connect to DataCube\n",
    "dc = datacube.Datacube(app='testing')\n",
    "\n",
    "for sensor in sensors:\n",
    "    # Load the NBAR and corresponding PQ\n",
    "    sensor_nbar = dc.load(product= sensor+'_nbar_albers', group_by='solar_day', \n",
    "                          measurements = bands_of_interest,  **query)\n",
    "    sensor_pq = dc.load(product= sensor+'_pq_albers', group_by='solar_day', \n",
    "                        fuse_func=ga_pq_fuser, **query)\n",
    "    \n",
    "    # Retrieve the projection information before masking/sorting\n",
    "    crs = sensor_nbar.crs\n",
    "    crswkt = sensor_nbar.crs.wkt\n",
    "    affine = sensor_nbar.affine        \n",
    "\n",
    "    # Combing the pq so it is a single \n",
    "    sensor_all = xr.auto_combine([sensor_pq,sensor_nbar])\n",
    "    sensor_clean[sensor] = sensor_all\n",
    "\n",
    "    print('Loaded %s' % sensor) \n",
    "    \n",
    "print('Concatenating')\n",
    "nbar_clean = xr.concat(sensor_clean.values(), 'time')\n",
    "nbar_clean = nbar_clean.sortby('time')\n",
    "nbar_clean.attrs['crs'] = crs\n",
    "nbar_clean.attrs['affin|e'] = affine    \n",
    "    \n",
    "print ('Load and Xarray build complete')\n",
    "print('Process took ' + str(datetime.datetime.now() - start))\n",
    "\n",
    "\n",
    "#Check that the concatenation worked\n",
    "nbar_clean"
   ]
  },
  {
   "cell_type": "markdown",
   "metadata": {},
   "source": [
    "## Pixel Quality Stuff"
   ]
  },
  {
   "cell_type": "code",
   "execution_count": null,
   "metadata": {},
   "outputs": [],
   "source": [
    "#     #Discard data that does not meet the cloud_free_threshold\n",
    "#     mostly_good = sensor_nbar2.where(mostly_cloud_free).dropna(dim='time', how='all')\n",
    "    \n",
    "#     mostly_good['product'] = ('time', np.repeat(sensor, mostly_good.time.size))    \n",
    "#     sensor_clean[sensor] = mostly_good\n",
    "\n",
    "#Ensure there's PQ to go with the NBAR\n",
    "#     sensor_nbar = sensor_nbar.sel(time = sensor_pq.time)\n",
    "    \n",
    "    #Apply the PQ masks to the NBAR\n",
    "#     quality_mask = masking.make_mask(sensor_pq, **mask_components)\n",
    "#     good_data = quality_mask.pixelquality.loc[start_of_epoch:end_of_epoch]\n",
    "#     sensor_nbar2 = sensor_nbar.where(good_data)\n",
    "    \n",
    "    #Calculate the percentage cloud free for each scene\n",
    "#     cloud_free = masking.make_mask(sensor_pq, cloud_acca='no_cloud', cloud_fmask='no_cloud', \n",
    "#                                    contiguous=True).pixelquality\n",
    "#     mostly_cloud_free = cloud_free.mean(dim=('x','y')) >= cloud_free_threshold"
   ]
  },
  {
   "cell_type": "code",
   "execution_count": 24,
   "metadata": {},
   "outputs": [
    {
     "data": {
      "text/plain": [
       "<xarray.Dataset>\n",
       "Dimensions:       (time: 103, x: 171, y: 143)\n",
       "Coordinates:\n",
       "  * time          (time) datetime64[ns] 2013-04-20T00:35:21 ...\n",
       "  * y             (y) float64 -3.844e+06 -3.844e+06 -3.844e+06 -3.844e+06 ...\n",
       "  * x             (x) float64 6.228e+05 6.228e+05 6.229e+05 6.229e+05 ...\n",
       "Data variables:\n",
       "    pixelquality  (time, y, x) int16 16383 16383 16383 14335 14335 14335 ...\n",
       "    blue          (time, y, x) int16 762 895 959 1009 1019 988 897 814 713 ...\n",
       "    green         (time, y, x) int16 867 865 954 1049 1079 1005 956 914 927 ...\n",
       "    red           (time, y, x) int16 1046 1049 1146 1257 1258 1182 1115 1055 ...\n",
       "    nir           (time, y, x) int16 1881 1963 2042 2139 2168 2090 1966 1853 ...\n",
       "    swir1         (time, y, x) int16 2435 2364 2445 2547 2535 2448 2410 2401 ...\n",
       "    swir2         (time, y, x) int16 1984 1928 2001 2126 2123 2036 2005 1979 ..."
      ]
     },
     "execution_count": 24,
     "metadata": {},
     "output_type": "execute_result"
    }
   ],
   "source": [
    "sensor = 'ls8'\n",
    "#Load the NBAR and corresponding PQ\n",
    "# sensor_nbar = dc.load(product= sensor+'_nbar_albers', group_by='solar_day', \n",
    "#                       measurements = bands_of_interest,  **query)\n",
    "\n",
    "# sensor_nbar\n",
    "# sensor_pq = dc.load(product= sensor+'_pq_albers', group_by='solar_day', \n",
    "#                     fuse_func=ga_pq_fuser, **query)\n",
    "xr.auto_combine([sensor_pq,sensor_nbar])\n",
    "# #Retrieve the projection information before masking/sorting\n",
    "# crs = sensor_nbar.crs\n",
    "# crswkt = sensor_nbar.crs.wkt\n",
    "# affine = sensor_nbar.affine\n",
    "\n",
    "\n",
    "# sensor_combo = xr.concat([sensor_nbar, sensor_pq], 'time')\n",
    "# sensor_combo\n"
   ]
  },
  {
   "cell_type": "markdown",
   "metadata": {},
   "source": [
    "## Playing"
   ]
  },
  {
   "cell_type": "code",
   "execution_count": 15,
   "metadata": {
    "scrolled": false
   },
   "outputs": [
    {
     "data": {
      "text/plain": [
       "<xarray.Dataset>\n",
       "Dimensions:  (time: 103, x: 171, y: 143)\n",
       "Coordinates:\n",
       "  * time     (time) datetime64[ns] 2013-04-20T00:35:21 2013-05-06T00:35:22 ...\n",
       "  * y        (y) float64 -3.844e+06 -3.844e+06 -3.844e+06 -3.844e+06 ...\n",
       "  * x        (x) float64 6.228e+05 6.228e+05 6.229e+05 6.229e+05 6.229e+05 ...\n",
       "Data variables:\n",
       "    blue     (time, y, x) int16 762 895 959 1009 1019 988 897 814 713 768 ...\n",
       "    green    (time, y, x) int16 867 865 954 1049 1079 1005 956 914 927 959 ...\n",
       "    red      (time, y, x) int16 1046 1049 1146 1257 1258 1182 1115 1055 1047 ...\n",
       "    nir      (time, y, x) int16 1881 1963 2042 2139 2168 2090 1966 1853 1924 ...\n",
       "    swir1    (time, y, x) int16 2435 2364 2445 2547 2535 2448 2410 2401 2229 ...\n",
       "    swir2    (time, y, x) int16 1984 1928 2001 2126 2123 2036 2005 1979 1848 ...\n",
       "Attributes:\n",
       "    crs:      EPSG:3577"
      ]
     },
     "execution_count": 15,
     "metadata": {},
     "output_type": "execute_result"
    }
   ],
   "source": [
    "#Check the output\n",
    "\n",
    "sensor_clean['ls8']"
   ]
  },
  {
   "cell_type": "code",
   "execution_count": 26,
   "metadata": {},
   "outputs": [
    {
     "data": {
      "text/plain": [
       "<xarray.DataArray 'red' (time: 145, y: 257, x: 269)>\n",
       "array([[[ 135.,  189., ...,  136.,  190.],\n",
       "        [ 162.,  162., ...,  217.,  244.],\n",
       "        ..., \n",
       "        [ 407.,  461., ...,  164.,  164.],\n",
       "        [ 407.,  407., ...,  164.,  164.]],\n",
       "\n",
       "       [[ 154.,  127., ...,  207.,  207.],\n",
       "        [ 154.,  154., ...,  233.,  260.],\n",
       "        ..., \n",
       "        [ 496.,  575., ...,  155.,  155.],\n",
       "        [ 470.,  443., ...,  155.,  129.]],\n",
       "\n",
       "       ..., \n",
       "       [[ 233.,  230., ...,  322.,  351.],\n",
       "        [ 211.,  230., ...,  320.,  316.],\n",
       "        ..., \n",
       "        [ 985.,  965., ...,  345.,  281.],\n",
       "        [ 948.,  826., ...,  384.,  285.]],\n",
       "\n",
       "       [[ 253.,  237., ...,  331.,  362.],\n",
       "        [ 221.,  237., ...,  343.,  342.],\n",
       "        ..., \n",
       "        [ 735.,  743., ...,  266.,  288.],\n",
       "        [ 693.,  677., ...,  263.,  274.]]])\n",
       "Coordinates:\n",
       "  * y        (y) float64 -2.279e+06 -2.279e+06 -2.279e+06 -2.279e+06 ...\n",
       "  * x        (x) float64 1.714e+06 1.714e+06 1.714e+06 1.714e+06 1.714e+06 ...\n",
       "  * time     (time) datetime64[ns] 2000-06-30T23:56:29.500000 ...\n",
       "Attributes:\n",
       "    nodata:   -999\n",
       "    units:    1\n",
       "    crs:      EPSG:3577"
      ]
     },
     "execution_count": 26,
     "metadata": {},
     "output_type": "execute_result"
    }
   ],
   "source": [
    "nbar_clean.red"
   ]
  },
  {
   "cell_type": "code",
   "execution_count": 34,
   "metadata": {},
   "outputs": [
    {
     "name": "stdout",
     "output_type": "stream",
     "text": [
      "<xarray.Variable (y: 257, x: 269)>\n",
      "array([[ 135.,  189.,  162., ...,  244.,  136.,  190.],\n",
      "       [ 162.,  162.,  162., ...,  217.,  217.,  244.],\n",
      "       [ 135.,  108.,  135., ...,  217.,  217.,  217.],\n",
      "       ..., \n",
      "       [ 461.,  758.,  812., ...,  109.,  164.,  191.],\n",
      "       [ 407.,  461.,  542., ...,  137.,  164.,  164.],\n",
      "       [ 407.,  407.,  434., ...,  137.,  164.,  164.]])\n",
      "Attributes:\n",
      "    nodata:   -999\n",
      "    units:    1\n",
      "    crs:      EPSG:3577\n",
      "<xarray.Variable (y: 257, x: 269)>\n",
      "array([[ 135.,  189.,  162., ...,  244.,  136.,  190.],\n",
      "       [ 162.,  162.,  162., ...,  217.,  217.,  244.],\n",
      "       [ 135.,  108.,  135., ...,  217.,  217.,  217.],\n",
      "       ..., \n",
      "       [ 461.,  758.,  812., ...,  109.,  164.,  191.],\n",
      "       [ 407.,  461.,  542., ...,  137.,  164.,  164.],\n",
      "       [ 407.,  407.,  434., ...,  137.,  164.,  164.]])\n",
      "Attributes:\n",
      "    nodata:   -999\n",
      "    units:    1\n",
      "    crs:      EPSG:3577\n",
      "<xarray.Variable (y: 257, x: 269)>\n",
      "array([[ 135.,  189.,  162., ...,  244.,  136.,  190.],\n",
      "       [ 162.,  162.,  162., ...,  217.,  217.,  244.],\n",
      "       [ 135.,  108.,  135., ...,  217.,  217.,  217.],\n",
      "       ..., \n",
      "       [ 461.,  758.,  812., ...,  109.,  164.,  191.],\n",
      "       [ 407.,  461.,  542., ...,  137.,  164.,  164.],\n",
      "       [ 407.,  407.,  434., ...,  137.,  164.,  164.]])\n",
      "Attributes:\n",
      "    nodata:   -999\n",
      "    units:    1\n",
      "    crs:      EPSG:3577\n"
     ]
    }
   ],
   "source": [
    "for colour in ['red','green','blue']:\n",
    "    print(nbar_clean.variables['red'][0,:,:])"
   ]
  },
  {
   "cell_type": "code",
   "execution_count": 29,
   "metadata": {},
   "outputs": [
    {
     "data": {
      "text/plain": [
       "<xarray.Dataset>\n",
       "Dimensions:  (time: 145, x: 269, y: 257)\n",
       "Coordinates:\n",
       "  * y        (y) float64 -2.279e+06 -2.279e+06 -2.279e+06 -2.279e+06 ...\n",
       "  * x        (x) float64 1.714e+06 1.714e+06 1.714e+06 1.714e+06 1.714e+06 ...\n",
       "  * time     (time) datetime64[ns] 2000-06-30T23:56:29.500000 ...\n",
       "Data variables:\n",
       "    green    (time, y, x) float64 205.0 206.0 206.0 267.0 236.0 236.0 206.0 ...\n",
       "    red      (time, y, x) float64 135.0 189.0 162.0 162.0 135.0 189.0 162.0 ...\n",
       "    nir      (time, y, x) float64 2.473e+03 2.278e+03 2.473e+03 2.667e+03 ...\n",
       "    swir1    (time, y, x) float64 839.0 803.0 839.0 944.0 979.0 909.0 698.0 ...\n",
       "    product  (time) <U3 'ls7' 'ls7' 'ls7' 'ls7' 'ls7' 'ls7' 'ls7' 'ls7' ...\n",
       "Attributes:\n",
       "    crs:      EPSG:3577\n",
       "    affin|e:  | 25.00, 0.00, 1713675.00|\\n| 0.00,-25.00,-2279200.00|\\n| 0.00,..."
      ]
     },
     "execution_count": 29,
     "metadata": {},
     "output_type": "execute_result"
    }
   ],
   "source": [
    "nbar_clean"
   ]
  }
 ],
 "metadata": {
  "kernelspec": {
   "display_name": "Python 3",
   "language": "python",
   "name": "python3"
  },
  "language_info": {
   "codemirror_mode": {
    "name": "ipython",
    "version": 3
   },
   "file_extension": ".py",
   "mimetype": "text/x-python",
   "name": "python",
   "nbconvert_exporter": "python",
   "pygments_lexer": "ipython3",
   "version": "3.6.3"
  },
  "toc": {
   "nav_menu": {},
   "number_sections": true,
   "sideBar": true,
   "skip_h1_title": false,
   "toc_cell": false,
   "toc_position": {},
   "toc_section_display": "block",
   "toc_window_display": true
  }
 },
 "nbformat": 4,
 "nbformat_minor": 2
}
