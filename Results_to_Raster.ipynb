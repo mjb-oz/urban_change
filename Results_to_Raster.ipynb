{
 "cells": [
  {
   "cell_type": "markdown",
   "metadata": {},
   "source": [
    "# Saving the results of my algorithm as a Raster\n",
    "My algorithm only saves the results as a pickle, which cannot be opened in Arc or QGIS.\n",
    "This algorithm saves it as a geoTiff, for use with most GIS packages."
   ]
  },
  {
   "cell_type": "markdown",
   "metadata": {},
   "source": [
    "## Imports"
   ]
  },
  {
   "cell_type": "code",
   "execution_count": null,
   "metadata": {},
   "outputs": [],
   "source": [
    "import os\n",
    "import numpy as np\n",
    "import rasterio"
   ]
  },
  {
   "cell_type": "markdown",
   "metadata": {},
   "source": [
    "# RasterIO Attempt\n",
    "https://pypi.python.org/pypi/rasterio"
   ]
  },
  {
   "cell_type": "code",
   "execution_count": 44,
   "metadata": {},
   "outputs": [
    {
     "name": "stdout",
     "output_type": "stream",
     "text": [
      "(148, 263)\n"
     ]
    },
    {
     "data": {
      "text/plain": [
       "array([[      nan,       nan,  1991.625, ...,  2010.875,  2013.375,\n",
       "         2011.375],\n",
       "       [      nan,       nan,       nan, ...,  2010.375,       nan,\n",
       "         2014.875],\n",
       "       [ 2011.375,  2015.625,  2013.375, ...,  2010.625,  2010.375,\n",
       "         2011.375],\n",
       "       ..., \n",
       "       [      nan,       nan,  1992.875, ...,       nan,       nan,\n",
       "              nan],\n",
       "       [      nan,       nan,       nan, ...,       nan,       nan,\n",
       "              nan],\n",
       "       [      nan,       nan,       nan, ...,       nan,       nan,\n",
       "              nan]], dtype=float32)"
      ]
     },
     "execution_count": 44,
     "metadata": {},
     "output_type": "execute_result"
    }
   ],
   "source": [
    "study_area = 'goldengrove'\n",
    "results_save_location = '../' + study_area + '/changeresults_svc_finalRun.pkl' \n",
    "my_change = np.load(results_save_location)\n",
    "print(my_change.shape)\n",
    "my_change"
   ]
  },
  {
   "cell_type": "code",
   "execution_count": 45,
   "metadata": {},
   "outputs": [
    {
     "data": {
      "text/plain": [
       "{'driver': 'ENVI', 'dtype': 'float32', 'nodata': None, 'width': 263, 'height': 148, 'count': 1, 'crs': CRS({'proj': 'aea', 'lat_1': -18, 'lat_2': -36, 'lat_0': 0, 'lon_0': 132, 'x_0': 0, 'y_0': 0, 'ellps': 'GRS80', 'units': 'm', 'no_defs': True}), 'transform': Affine(25.0, 0.0, 607150.0,\n",
       "       0.0, -25.0, -3812350.0), 'tiled': False, 'interleave': 'band'}"
      ]
     },
     "execution_count": 45,
     "metadata": {},
     "output_type": "execute_result"
    }
   ],
   "source": [
    "with rasterio.open('../' + study_area + '/change_time.img', 'r') as src:\n",
    "    check = src.read()\n",
    "    profile = src.profile\n",
    "profile['nodata'] = 0    \n",
    "profile"
   ]
  },
  {
   "cell_type": "code",
   "execution_count": 47,
   "metadata": {},
   "outputs": [
    {
     "name": "stdout",
     "output_type": "stream",
     "text": [
      "(1, 148, 263)\n"
     ]
    },
    {
     "data": {
      "text/plain": [
       "array([[[    0.   ,     0.   ,     0.   , ...,  2007.875,  2008.375,     0.   ],\n",
       "        [    0.   ,     0.   ,     0.   , ...,  2007.875,  2007.875,\n",
       "          2008.375],\n",
       "        [    0.   ,     0.   ,     0.   , ...,  2007.875,  2007.875,\n",
       "          2007.875],\n",
       "        ..., \n",
       "        [    0.   ,     0.   ,     0.   , ...,     0.   ,     0.   ,     0.   ],\n",
       "        [    0.   ,     0.   ,     0.   , ...,     0.   ,     0.   ,     0.   ],\n",
       "        [    0.   ,     0.   ,     0.   , ...,     0.   ,     0.   ,     0.   ]]], dtype=float32)"
      ]
     },
     "execution_count": 47,
     "metadata": {},
     "output_type": "execute_result"
    }
   ],
   "source": [
    "print(check.shape)\n",
    "check"
   ]
  },
  {
   "cell_type": "code",
   "execution_count": 48,
   "metadata": {},
   "outputs": [
    {
     "data": {
      "text/plain": [
       "(1, 148, 263)"
      ]
     },
     "execution_count": 48,
     "metadata": {},
     "output_type": "execute_result"
    }
   ],
   "source": [
    "my_change = my_change.reshape(1,my_change.shape[0], my_change.shape[1])\n",
    "my_change.shape"
   ]
  },
  {
   "cell_type": "code",
   "execution_count": 49,
   "metadata": {},
   "outputs": [],
   "source": [
    "with rasterio.open('../' + study_area + '/rasterized_results.tif', 'w', **profile) as dst:\n",
    "    dst.write((my_change))"
   ]
  }
 ],
 "metadata": {
  "kernelspec": {
   "display_name": "Python 3",
   "language": "python",
   "name": "python3"
  },
  "language_info": {
   "codemirror_mode": {
    "name": "ipython",
    "version": 3
   },
   "file_extension": ".py",
   "mimetype": "text/x-python",
   "name": "python",
   "nbconvert_exporter": "python",
   "pygments_lexer": "ipython3",
   "version": "3.6.3"
  },
  "toc": {
   "nav_menu": {},
   "number_sections": true,
   "sideBar": true,
   "skip_h1_title": false,
   "toc_cell": false,
   "toc_position": {},
   "toc_section_display": "block",
   "toc_window_display": true
  }
 },
 "nbformat": 4,
 "nbformat_minor": 2
}
